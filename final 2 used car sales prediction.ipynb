{
 "cells": [
  {
   "cell_type": "markdown",
   "metadata": {},
   "source": [
    "\n",
    "\n",
    "Driverless cars are getting closer to reality and at a faster pace than ever. But it is still a bit far fetched dream to have one in your garage. For the time being, there are still a lot of combustion and hybrid cars that roar around the road, for some it chills. Though the overall data on sales of automobiles shows a huge drop in sales in the last couple of years, cars are still a big attraction for many. Cars are more than just a utility for many. They are often the pride and status of the family. We all have different tastes when it comes to owning a car or at least when thinking of owning one.\n",
    "\n",
    "Well here of course as the name suggests we are not concentrating on a new car, rather our interest is in knowing the prices of used cars across the country whether it is a royal l luxury sedan or a cheap budget utility vehicle. In this hackathon, you will be predicting the costs of used cars given the data collected from various sources and distributed across various locations in India.\n",
    "\n",
    "Size of training set: 6,019 records\n",
    "\n",
    "Size of test set: 1,234 records\n",
    "\n",
    "FEATURES:\n",
    "\n",
    "Name: The brand and model of the car.\n",
    "\n",
    "Location: The location in which the car is being sold or is available for purchase.\n",
    "\n",
    "Year: The year or edition of the model.\n",
    "\n",
    "Kilometers_Driven: The total kilometres driven in the car by the previous owner(s) in KM.\n",
    "\n",
    "Fuel_Type: The type of fuel used by the car.\n",
    "\n",
    "Transmission: The type of transmission used by the car.\n",
    "\n",
    "Owner_Type: Whether the ownership is Firsthand, Second hand or other.\n",
    "\n",
    "Mileage: The standard mileage offered by the car company in kmpl or km/kg\n",
    "\n",
    "Engine: The displacement volume of the engine in cc.\n",
    "\n",
    "Power: The maximum power of the engine in bhp.\n",
    "\n",
    "Seats: The number of seats in the car.\n",
    "\n",
    "New_Price: The price of a new car of the same model.\n",
    "\n",
    "Price: The price of the used car in INR Lakhs\n"
   ]
  },
  {
   "cell_type": "markdown",
   "metadata": {},
   "source": []
  },
  {
   "cell_type": "code",
   "execution_count": 1,
   "metadata": {},
   "outputs": [],
   "source": [
    "import numpy as np\n",
    "import pandas as pd\n",
    "import seaborn as sns\n",
    "import matplotlib.pyplot as plt"
   ]
  },
  {
   "cell_type": "code",
   "execution_count": 2,
   "metadata": {
    "_cell_guid": "b1076dfc-b9ad-4769-8c92-a6c4dae69d19",
    "_uuid": "8f2839f25d086af736a60e9eeb907d3b93b6e0e5"
   },
   "outputs": [],
   "source": [
    "df=pd.read_excel('D:\\datasets+minipro\\machine hack\\Participants_Data_Used_Cars\\Data_Train.xlsx')\n",
    "dfte=pd.read_excel('D:\\datasets+minipro\\machine hack\\Participants_Data_Used_Cars\\Data_Test.xlsx')"
   ]
  },
  {
   "cell_type": "code",
   "execution_count": 3,
   "metadata": {},
   "outputs": [],
   "source": [
    "# Moving on to the other metrics, we will correct the feature values as per below strategy\n",
    "\n",
    "#     Remove the New_price currency unit from each value and convert into relevant amount\n",
    "#     Remove the Engine capacity unit from each value\n",
    "#     Remove the Mileage unit and comvert all \"0.0 kmpl\" value to NaN\n",
    "\n",
    "#     Remove the units of Power and convert \"null bhp\" to NaN\n",
    "\n",
    "#     After all this filtering, we will fill the missing values with the mean or median value respective to each feature"
   ]
  },
  {
   "cell_type": "code",
   "execution_count": 4,
   "metadata": {
    "_cell_guid": "79c7e3d0-c299-4dcb-8224-4455121ee9b0",
    "_uuid": "d629ff2d2480ee46fbb7e2d37f6b5fab8052498a"
   },
   "outputs": [],
   "source": [
    "df['data']='train'\n",
    "dfte['data']='test'\n",
    "dfte['Price']=np.nan"
   ]
  },
  {
   "cell_type": "code",
   "execution_count": 5,
   "metadata": {},
   "outputs": [],
   "source": [
    "dff=pd.concat([df,dfte],axis=0)\n",
    "dff=dff.reset_index(drop=True)"
   ]
  },
  {
   "cell_type": "code",
   "execution_count": 6,
   "metadata": {},
   "outputs": [],
   "source": [
    "# dff.drop(['Name'],axis=1,inplace=True)\n",
    "dff['brand'] = dff['Name'].apply(lambda x: \" \".join(x.split(' ')[:1]))"
   ]
  },
  {
   "cell_type": "code",
   "execution_count": 7,
   "metadata": {},
   "outputs": [],
   "source": [
    "# Define function to correct the New_Price value\n",
    "def price_correct(x):\n",
    "    if str(x).endswith('Lakh'):\n",
    "        return float(str(x).split()[0])*100000\n",
    "    elif str(x).endswith('Cr'):\n",
    "        return float(str(x).split()[0])*10000000\n",
    "    else:\n",
    "        return x"
   ]
  },
  {
   "cell_type": "code",
   "execution_count": 8,
   "metadata": {},
   "outputs": [],
   "source": [
    "# dff2=dff.copy()\n",
    "# dff2['New_Price']=dff2['New_Price'].apply(price_correct)\n",
    "dff['New_Price']=dff['New_Price'].apply(price_correct)\n",
    "\n",
    "dff['New_Price'] = dff.groupby('brand').New_Price.apply(lambda x: x.fillna(x.mean()))\n",
    "dff.New_Price = dff.New_Price.fillna(dff.New_Price.mean())"
   ]
  },
  {
   "cell_type": "code",
   "execution_count": 9,
   "metadata": {},
   "outputs": [],
   "source": [
    "# dff[dff['Mileage'].isnull()] # 2 values with null mileage.so its fine!"
   ]
  },
  {
   "cell_type": "code",
   "execution_count": 10,
   "metadata": {},
   "outputs": [
    {
     "name": "stdout",
     "output_type": "stream",
     "text": [
      "Location :\n",
      "Mumbai        949\n",
      "Hyderabad     876\n",
      "Kochi         772\n",
      "Coimbatore    772\n",
      "Pune          765\n",
      "Delhi         660\n",
      "Kolkata       654\n",
      "Chennai       591\n",
      "Jaipur        499\n",
      "Bangalore     440\n",
      "Ahmedabad     275\n",
      "Name: Location, dtype: int64 \n",
      "\n",
      "Year :\n",
      "2015    929\n",
      "2014    925\n",
      "2016    886\n",
      "2013    791\n",
      "2017    709\n",
      "2012    690\n",
      "2011    579\n",
      "2010    407\n",
      "2018    361\n",
      "2009    252\n",
      "2008    207\n",
      "2007    148\n",
      "2019    119\n",
      "2006     89\n",
      "2005     68\n",
      "2004     35\n",
      "2003     20\n",
      "2002     18\n",
      "2001      8\n",
      "2000      5\n",
      "1998      4\n",
      "1999      2\n",
      "1996      1\n",
      "Name: Year, dtype: int64 \n",
      "\n",
      "Fuel_Type :\n",
      "Diesel      3852\n",
      "Petrol      3325\n",
      "CNG           62\n",
      "LPG           12\n",
      "Electric       2\n",
      "Name: Fuel_Type, dtype: int64 \n",
      "\n",
      "Transmission :\n",
      "Manual       5204\n",
      "Automatic    2049\n",
      "Name: Transmission, dtype: int64 \n",
      "\n",
      "Owner_Type :\n",
      "First             5952\n",
      "Second            1152\n",
      "Third              137\n",
      "Fourth & Above      12\n",
      "Name: Owner_Type, dtype: int64 \n",
      "\n"
     ]
    }
   ],
   "source": [
    "for i in ['Location','Year','Fuel_Type','Transmission','Owner_Type']:\n",
    "    print(i,':')\n",
    "    print(dff[i].value_counts(),'\\n')"
   ]
  },
  {
   "cell_type": "code",
   "execution_count": 11,
   "metadata": {},
   "outputs": [],
   "source": [
    "cat_cols=dff.select_dtypes(include='object').columns\n",
    "cat_cols=['Location', 'Fuel_Type', 'Transmission', 'Owner_Type']"
   ]
  },
  {
   "cell_type": "code",
   "execution_count": 12,
   "metadata": {},
   "outputs": [
    {
     "name": "stdout",
     "output_type": "stream",
     "text": [
      "Location\n",
      "Fuel_Type\n",
      "Transmission\n",
      "Owner_Type\n"
     ]
    }
   ],
   "source": [
    "# reomving the infrequent responses from the column ie >10 and deleting it. \n",
    "for col in cat_cols:\n",
    "    freqs=dff[col].value_counts()\n",
    "    k=freqs.index[freqs>10][:-1]    # checking atleast 10 responses, 20 comes after checking the data\n",
    "    for cat in k:\n",
    "        name=col+'_'+cat\n",
    "        dff[name]=(dff[col]==cat).astype(int)\n",
    "    del dff[col]\n",
    "    print(col)"
   ]
  },
  {
   "cell_type": "code",
   "execution_count": 13,
   "metadata": {},
   "outputs": [],
   "source": [
    "a=dff['Mileage'].str.split(' ',expand=True)\n",
    "\n",
    "a[0]=a[0].astype('float')\n",
    "\n",
    "dff['Mileage']=a[0]"
   ]
  },
  {
   "cell_type": "code",
   "execution_count": 14,
   "metadata": {},
   "outputs": [],
   "source": [
    "for i in ['Engine','Power']:\n",
    "    dff[i]=dff[i].str.extract('([0-9]).*',expand=False).astype('float')"
   ]
  },
  {
   "cell_type": "code",
   "execution_count": 15,
   "metadata": {
    "scrolled": true
   },
   "outputs": [
    {
     "name": "stdout",
     "output_type": "stream",
     "text": [
      "81\n",
      "2\n"
     ]
    }
   ],
   "source": [
    "print(dff[dff['Mileage']==0.0].shape[0])\n",
    "print(dff['Mileage'].isnull().sum())"
   ]
  },
  {
   "cell_type": "code",
   "execution_count": 16,
   "metadata": {},
   "outputs": [],
   "source": [
    "dff['Mileage']=dff['Mileage'].replace({0.0:np.nan})"
   ]
  },
  {
   "cell_type": "code",
   "execution_count": 17,
   "metadata": {},
   "outputs": [],
   "source": [
    "for i in ['Power','Mileage','Engine','Seats']:\n",
    "    dff.loc[dff[i].isnull(),i]=dff.loc[dff['data']=='train',i].median()"
   ]
  },
  {
   "cell_type": "code",
   "execution_count": 18,
   "metadata": {},
   "outputs": [
    {
     "data": {
      "text/plain": [
       "Engine                    0\n",
       "Kilometers_Driven         0\n",
       "Mileage                   0\n",
       "Name                      0\n",
       "New_Price                 0\n",
       "Power                     0\n",
       "Price                  1234\n",
       "Seats                     0\n",
       "Year                      0\n",
       "data                      0\n",
       "brand                     0\n",
       "Location_Mumbai           0\n",
       "Location_Hyderabad        0\n",
       "Location_Kochi            0\n",
       "Location_Coimbatore       0\n",
       "Location_Pune             0\n",
       "Location_Delhi            0\n",
       "Location_Kolkata          0\n",
       "Location_Chennai          0\n",
       "Location_Jaipur           0\n",
       "Location_Bangalore        0\n",
       "Fuel_Type_Diesel          0\n",
       "Fuel_Type_Petrol          0\n",
       "Fuel_Type_CNG             0\n",
       "Transmission_Manual       0\n",
       "Owner_Type_First          0\n",
       "Owner_Type_Second         0\n",
       "Owner_Type_Third          0\n",
       "dtype: int64"
      ]
     },
     "execution_count": 18,
     "metadata": {},
     "output_type": "execute_result"
    }
   ],
   "source": [
    "dff.isnull().sum() # the price column in which null values are present are from test data!\n",
    "# so dont worry about the 1234 null values."
   ]
  },
  {
   "cell_type": "code",
   "execution_count": 19,
   "metadata": {},
   "outputs": [],
   "source": [
    "dff.drop(['Name','brand'],axis=1,inplace=True)"
   ]
  },
  {
   "cell_type": "code",
   "execution_count": 20,
   "metadata": {},
   "outputs": [
    {
     "name": "stderr",
     "output_type": "stream",
     "text": [
      "C:\\Users\\DOMAIN\\AppData\\Roaming\\Python\\Python36\\site-packages\\ipykernel_launcher.py:7: SettingWithCopyWarning: \n",
      "A value is trying to be set on a copy of a slice from a DataFrame\n",
      "\n",
      "See the caveats in the documentation: http://pandas.pydata.org/pandas-docs/stable/indexing.html#indexing-view-versus-copy\n",
      "  import sys\n"
     ]
    }
   ],
   "source": [
    "# Separating train and test data back to their original dataframes.\n",
    "\n",
    "df=dff[dff['data']=='train']\n",
    "del df['data']\n",
    "\n",
    "dfte=dff[dff['data']=='test']\n",
    "dfte.drop(['Price','data'],axis=1,inplace=True)"
   ]
  },
  {
   "cell_type": "code",
   "execution_count": 21,
   "metadata": {},
   "outputs": [],
   "source": [
    "del dff"
   ]
  },
  {
   "cell_type": "code",
   "execution_count": null,
   "metadata": {},
   "outputs": [],
   "source": []
  },
  {
   "cell_type": "markdown",
   "metadata": {},
   "source": [
    "### Modelling:"
   ]
  },
  {
   "cell_type": "code",
   "execution_count": 22,
   "metadata": {},
   "outputs": [
    {
     "name": "stderr",
     "output_type": "stream",
     "text": [
      "E:\\anaconda navigator\\lib\\site-packages\\statsmodels\\compat\\pandas.py:56: FutureWarning: The pandas.core.datetools module is deprecated and will be removed in a future version. Please use the pandas.tseries module instead.\n",
      "  from pandas.core import datetools\n"
     ]
    }
   ],
   "source": [
    "import numpy as np\n",
    "import pandas as pd\n",
    "import matplotlib.pyplot as plt\n",
    "import seaborn as sns\n",
    "from scipy import stats\n",
    "import statsmodels.api as sm\n",
    "from statsmodels.formula.api import ols\n",
    "from sklearn.linear_model import LinearRegression\n",
    "from sklearn.neighbors import KNeighborsRegressor\n",
    "from sklearn.tree import DecisionTreeRegressor\n",
    "from sklearn.ensemble import RandomForestRegressor, AdaBoostRegressor, GradientBoostingRegressor, VotingRegressor, BaggingRegressor\n",
    "from sklearn.model_selection import KFold, cross_val_score, GridSearchCV\n",
    "from scipy.stats import ttest_ind, ttest_1samp, levene, f_oneway, bartlett, shapiro, mannwhitneyu\n",
    "from sklearn.metrics import r2_score, mean_squared_error\n",
    "from sklearn.preprocessing import StandardScaler, PolynomialFeatures"
   ]
  },
  {
   "cell_type": "markdown",
   "metadata": {},
   "source": [
    "### 1 - Linear Regression:"
   ]
  },
  {
   "cell_type": "code",
   "execution_count": 23,
   "metadata": {},
   "outputs": [
    {
     "name": "stdout",
     "output_type": "stream",
     "text": [
      "R² of data: 0.7061093337013191\n",
      "RMSE of data: 6.064654396140225\n"
     ]
    }
   ],
   "source": [
    "X = df.drop('Price', axis=1)\n",
    "y = df['Price']\n",
    "\n",
    "lr = LinearRegression()\n",
    "model = lr.fit(X, y)\n",
    "\n",
    "\n",
    "\n",
    "model.score(X, y)\n",
    "\n",
    "y_pred = model.predict(X)\n",
    "\n",
    "\n",
    "print('R² of data:', r2_score(y, y_pred))\n",
    "print('RMSE of data:', np.sqrt(mean_squared_error(y, y_pred)))"
   ]
  },
  {
   "cell_type": "markdown",
   "metadata": {},
   "source": [
    "#### Linear Regression base model (OLS)"
   ]
  },
  {
   "cell_type": "code",
   "execution_count": 24,
   "metadata": {},
   "outputs": [
    {
     "data": {
      "text/html": [
       "<table class=\"simpletable\">\n",
       "<caption>OLS Regression Results</caption>\n",
       "<tr>\n",
       "  <th>Dep. Variable:</th>          <td>Price</td>      <th>  R-squared:         </th> <td>   0.704</td> \n",
       "</tr>\n",
       "<tr>\n",
       "  <th>Model:</th>                   <td>OLS</td>       <th>  Adj. R-squared:    </th> <td>   0.703</td> \n",
       "</tr>\n",
       "<tr>\n",
       "  <th>Method:</th>             <td>Least Squares</td>  <th>  F-statistic:       </th> <td>   1020.</td> \n",
       "</tr>\n",
       "<tr>\n",
       "  <th>Date:</th>             <td>Sat, 14 Mar 2020</td> <th>  Prob (F-statistic):</th>  <td>  0.00</td>  \n",
       "</tr>\n",
       "<tr>\n",
       "  <th>Time:</th>                 <td>11:03:50</td>     <th>  Log-Likelihood:    </th> <td> -19410.</td> \n",
       "</tr>\n",
       "<tr>\n",
       "  <th>No. Observations:</th>      <td>  6019</td>      <th>  AIC:               </th> <td>3.885e+04</td>\n",
       "</tr>\n",
       "<tr>\n",
       "  <th>Df Residuals:</th>          <td>  6004</td>      <th>  BIC:               </th> <td>3.895e+04</td>\n",
       "</tr>\n",
       "<tr>\n",
       "  <th>Df Model:</th>              <td>    14</td>      <th>                     </th>     <td> </td>    \n",
       "</tr>\n",
       "<tr>\n",
       "  <th>Covariance Type:</th>      <td>nonrobust</td>    <th>                     </th>     <td> </td>    \n",
       "</tr>\n",
       "</table>\n",
       "<table class=\"simpletable\">\n",
       "<tr>\n",
       "           <td></td>              <th>coef</th>     <th>std err</th>      <th>t</th>      <th>P>|t|</th>  <th>[0.025</th>    <th>0.975]</th>  \n",
       "</tr>\n",
       "<tr>\n",
       "  <th>const</th>               <td>-2339.4626</td> <td>   55.750</td> <td>  -41.963</td> <td> 0.000</td> <td>-2448.753</td> <td>-2230.172</td>\n",
       "</tr>\n",
       "<tr>\n",
       "  <th>Engine</th>              <td>    0.2571</td> <td>    0.041</td> <td>    6.261</td> <td> 0.000</td> <td>    0.177</td> <td>    0.338</td>\n",
       "</tr>\n",
       "<tr>\n",
       "  <th>Mileage</th>             <td>   -0.5709</td> <td>    0.032</td> <td>  -17.666</td> <td> 0.000</td> <td>   -0.634</td> <td>   -0.508</td>\n",
       "</tr>\n",
       "<tr>\n",
       "  <th>New_Price</th>           <td> 2.684e-06</td> <td>  4.9e-08</td> <td>   54.773</td> <td> 0.000</td> <td> 2.59e-06</td> <td> 2.78e-06</td>\n",
       "</tr>\n",
       "<tr>\n",
       "  <th>Power</th>               <td>    0.0449</td> <td>    0.034</td> <td>    1.319</td> <td> 0.187</td> <td>   -0.022</td> <td>    0.112</td>\n",
       "</tr>\n",
       "<tr>\n",
       "  <th>Seats</th>               <td>   -0.3956</td> <td>    0.129</td> <td>   -3.061</td> <td> 0.002</td> <td>   -0.649</td> <td>   -0.142</td>\n",
       "</tr>\n",
       "<tr>\n",
       "  <th>Year</th>                <td>    1.1702</td> <td>    0.028</td> <td>   42.037</td> <td> 0.000</td> <td>    1.116</td> <td>    1.225</td>\n",
       "</tr>\n",
       "<tr>\n",
       "  <th>Location_Hyderabad</th>  <td>    1.3035</td> <td>    0.246</td> <td>    5.288</td> <td> 0.000</td> <td>    0.820</td> <td>    1.787</td>\n",
       "</tr>\n",
       "<tr>\n",
       "  <th>Location_Coimbatore</th> <td>    1.9918</td> <td>    0.266</td> <td>    7.482</td> <td> 0.000</td> <td>    1.470</td> <td>    2.514</td>\n",
       "</tr>\n",
       "<tr>\n",
       "  <th>Location_Bangalore</th>  <td>    1.9591</td> <td>    0.337</td> <td>    5.809</td> <td> 0.000</td> <td>    1.298</td> <td>    2.620</td>\n",
       "</tr>\n",
       "<tr>\n",
       "  <th>Fuel_Type_Diesel</th>    <td>    1.5097</td> <td>    1.773</td> <td>    0.852</td> <td> 0.394</td> <td>   -1.966</td> <td>    4.985</td>\n",
       "</tr>\n",
       "<tr>\n",
       "  <th>Fuel_Type_Petrol</th>    <td>   -1.8007</td> <td>    1.767</td> <td>   -1.019</td> <td> 0.308</td> <td>   -5.265</td> <td>    1.664</td>\n",
       "</tr>\n",
       "<tr>\n",
       "  <th>Fuel_Type_CNG</th>       <td>    0.9585</td> <td>    1.949</td> <td>    0.492</td> <td> 0.623</td> <td>   -2.863</td> <td>    4.780</td>\n",
       "</tr>\n",
       "<tr>\n",
       "  <th>Transmission_Manual</th> <td>   -2.1944</td> <td>    0.244</td> <td>   -8.995</td> <td> 0.000</td> <td>   -2.673</td> <td>   -1.716</td>\n",
       "</tr>\n",
       "<tr>\n",
       "  <th>Owner_Type_Third</th>    <td>    2.2123</td> <td>    0.597</td> <td>    3.707</td> <td> 0.000</td> <td>    1.043</td> <td>    3.382</td>\n",
       "</tr>\n",
       "</table>\n",
       "<table class=\"simpletable\">\n",
       "<tr>\n",
       "  <th>Omnibus:</th>       <td>4882.465</td> <th>  Durbin-Watson:     </th>  <td>   2.011</td> \n",
       "</tr>\n",
       "<tr>\n",
       "  <th>Prob(Omnibus):</th>  <td> 0.000</td>  <th>  Jarque-Bera (JB):  </th> <td>373270.537</td>\n",
       "</tr>\n",
       "<tr>\n",
       "  <th>Skew:</th>           <td> 3.357</td>  <th>  Prob(JB):          </th>  <td>    0.00</td> \n",
       "</tr>\n",
       "<tr>\n",
       "  <th>Kurtosis:</th>       <td>40.991</td>  <th>  Cond. No.          </th>  <td>2.31e+09</td> \n",
       "</tr>\n",
       "</table>"
      ],
      "text/plain": [
       "<class 'statsmodels.iolib.summary.Summary'>\n",
       "\"\"\"\n",
       "                            OLS Regression Results                            \n",
       "==============================================================================\n",
       "Dep. Variable:                  Price   R-squared:                       0.704\n",
       "Model:                            OLS   Adj. R-squared:                  0.703\n",
       "Method:                 Least Squares   F-statistic:                     1020.\n",
       "Date:                Sat, 14 Mar 2020   Prob (F-statistic):               0.00\n",
       "Time:                        11:03:50   Log-Likelihood:                -19410.\n",
       "No. Observations:                6019   AIC:                         3.885e+04\n",
       "Df Residuals:                    6004   BIC:                         3.895e+04\n",
       "Df Model:                          14                                         \n",
       "Covariance Type:            nonrobust                                         \n",
       "=======================================================================================\n",
       "                          coef    std err          t      P>|t|      [0.025      0.975]\n",
       "---------------------------------------------------------------------------------------\n",
       "const               -2339.4626     55.750    -41.963      0.000   -2448.753   -2230.172\n",
       "Engine                  0.2571      0.041      6.261      0.000       0.177       0.338\n",
       "Mileage                -0.5709      0.032    -17.666      0.000      -0.634      -0.508\n",
       "New_Price            2.684e-06    4.9e-08     54.773      0.000    2.59e-06    2.78e-06\n",
       "Power                   0.0449      0.034      1.319      0.187      -0.022       0.112\n",
       "Seats                  -0.3956      0.129     -3.061      0.002      -0.649      -0.142\n",
       "Year                    1.1702      0.028     42.037      0.000       1.116       1.225\n",
       "Location_Hyderabad      1.3035      0.246      5.288      0.000       0.820       1.787\n",
       "Location_Coimbatore     1.9918      0.266      7.482      0.000       1.470       2.514\n",
       "Location_Bangalore      1.9591      0.337      5.809      0.000       1.298       2.620\n",
       "Fuel_Type_Diesel        1.5097      1.773      0.852      0.394      -1.966       4.985\n",
       "Fuel_Type_Petrol       -1.8007      1.767     -1.019      0.308      -5.265       1.664\n",
       "Fuel_Type_CNG           0.9585      1.949      0.492      0.623      -2.863       4.780\n",
       "Transmission_Manual    -2.1944      0.244     -8.995      0.000      -2.673      -1.716\n",
       "Owner_Type_Third        2.2123      0.597      3.707      0.000       1.043       3.382\n",
       "==============================================================================\n",
       "Omnibus:                     4882.465   Durbin-Watson:                   2.011\n",
       "Prob(Omnibus):                  0.000   Jarque-Bera (JB):           373270.537\n",
       "Skew:                           3.357   Prob(JB):                         0.00\n",
       "Kurtosis:                      40.991   Cond. No.                     2.31e+09\n",
       "==============================================================================\n",
       "\n",
       "Warnings:\n",
       "[1] Standard Errors assume that the covariance matrix of the errors is correctly specified.\n",
       "[2] The condition number is large, 2.31e+09. This might indicate that there are\n",
       "strong multicollinearity or other numerical problems.\n",
       "\"\"\""
      ]
     },
     "execution_count": 24,
     "metadata": {},
     "output_type": "execute_result"
    }
   ],
   "source": [
    "X = df.drop(['Price','Location_Mumbai','Location_Jaipur','Location_Pune','Location_Kolkata',\n",
    "             'Owner_Type_First','Kilometers_Driven','Location_Kochi','Owner_Type_Second','Location_Delhi','Location_Chennai'], axis=1)\n",
    "y = df['Price']\n",
    "\n",
    "Xc=sm.add_constant(X)\n",
    "model = sm.OLS(y, Xc).fit()\n",
    "model.summary()"
   ]
  },
  {
   "cell_type": "markdown",
   "metadata": {},
   "source": [
    "### 1-KNN regressor: [ Scaling is needed as it deals with distance ]"
   ]
  },
  {
   "cell_type": "code",
   "execution_count": 25,
   "metadata": {},
   "outputs": [],
   "source": [
    "X = df.drop(['Price','Location_Mumbai','Location_Jaipur','Location_Pune','Location_Kolkata',\n",
    "             'Owner_Type_First','Kilometers_Driven','Location_Kochi','Owner_Type_Second','Location_Delhi','Location_Chennai'], axis=1)\n",
    "y = df['Price']"
   ]
  },
  {
   "cell_type": "code",
   "execution_count": 26,
   "metadata": {},
   "outputs": [
    {
     "data": {
      "text/plain": [
       "GridSearchCV(cv=3, error_score=nan,\n",
       "             estimator=KNeighborsRegressor(algorithm='auto', leaf_size=30,\n",
       "                                           metric='minkowski',\n",
       "                                           metric_params=None, n_jobs=None,\n",
       "                                           n_neighbors=5, p=2,\n",
       "                                           weights='uniform'),\n",
       "             iid='deprecated', n_jobs=None,\n",
       "             param_grid={'n_neighbors': array([ 3,  4,  5,  6,  7,  8,  9, 10, 11, 12, 13, 14, 15, 16, 17, 18, 19]),\n",
       "                         'weights': ['uniform', 'distance']},\n",
       "             pre_dispatch='2*n_jobs', refit=True, return_train_score=False,\n",
       "             scoring='neg_mean_squared_error', verbose=0)"
      ]
     },
     "execution_count": 26,
     "metadata": {},
     "output_type": "execute_result"
    }
   ],
   "source": [
    "from sklearn.preprocessing import StandardScaler\n",
    "sc=StandardScaler()\n",
    "\n",
    "knn = KNeighborsRegressor()\n",
    "knn_params = {'n_neighbors':np.arange(3,20), 'weights':['uniform','distance']}\n",
    "gscv = GridSearchCV(knn, knn_params, cv=3, scoring='neg_mean_squared_error')\n",
    "X_scaled = sc.fit_transform(X)\n",
    "gscv.fit(X_scaled, y)"
   ]
  },
  {
   "cell_type": "code",
   "execution_count": 27,
   "metadata": {},
   "outputs": [],
   "source": [
    "knn_best=gscv.best_params_"
   ]
  },
  {
   "cell_type": "code",
   "execution_count": 28,
   "metadata": {},
   "outputs": [
    {
     "name": "stdout",
     "output_type": "stream",
     "text": [
      "KNeighborsRegressor: : 4.903515(0.246984)\n"
     ]
    }
   ],
   "source": [
    "knn = KNeighborsRegressor(**knn_best)\n",
    "kfold = KFold(shuffle=True, n_splits=3, random_state=0)\n",
    "cv_results = cross_val_score(knn, X_scaled, y, cv=kfold, scoring='neg_mean_squared_error')\n",
    "print('%s : %f(%f)' %('KNeighborsRegressor:',np.mean(np.sqrt(np.abs(cv_results))), np.var(np.sqrt(np.abs(cv_results)),ddof=1)))"
   ]
  },
  {
   "cell_type": "code",
   "execution_count": 29,
   "metadata": {},
   "outputs": [
    {
     "data": {
      "text/plain": [
       "0.9934057174567167"
      ]
     },
     "execution_count": 29,
     "metadata": {},
     "output_type": "execute_result"
    }
   ],
   "source": [
    "KNN = KNeighborsRegressor(**knn_best)\n",
    "knn.fit(X,y)\n",
    "knn.score(X,y)"
   ]
  },
  {
   "cell_type": "code",
   "execution_count": 30,
   "metadata": {},
   "outputs": [],
   "source": [
    "from sklearn.model_selection import train_test_split\n",
    "\n",
    "X_train,X_test,y_train,y_test=train_test_split(X,y,test_size=.2,random_state=8)"
   ]
  },
  {
   "cell_type": "code",
   "execution_count": 31,
   "metadata": {},
   "outputs": [
    {
     "name": "stdout",
     "output_type": "stream",
     "text": [
      "r2_score on training data:  0.9945367852279479\n",
      "r2_score on testing data:  0.9036644027172169\n",
      "RMSE on training data:  0.8346650612586951\n",
      "RMSE on testing data:  3.3376819465236482\n"
     ]
    }
   ],
   "source": [
    "knn = KNeighborsRegressor(**knn_best)\n",
    "knn.fit(X_train,y_train)\n",
    "y_tr_pred=knn.predict(X_train)\n",
    "y_test_pred=knn.predict(X_test)\n",
    "\n",
    "# training data & testing data accuracy:\n",
    "print('r2_score on training data: ',r2_score(y_train,y_tr_pred)) #train\n",
    "print('r2_score on testing data: ',r2_score(y_test,y_test_pred)) #test\n",
    "\n",
    "# RMSE for train & test:\n",
    "print('RMSE on training data: ',np.sqrt(mean_squared_error(y_train,y_tr_pred)))  #train\n",
    "print('RMSE on testing data: ',np.sqrt(mean_squared_error(y_test,y_test_pred))) #test"
   ]
  },
  {
   "cell_type": "code",
   "execution_count": 32,
   "metadata": {},
   "outputs": [
    {
     "data": {
      "text/html": [
       "<div>\n",
       "<style scoped>\n",
       "    .dataframe tbody tr th:only-of-type {\n",
       "        vertical-align: middle;\n",
       "    }\n",
       "\n",
       "    .dataframe tbody tr th {\n",
       "        vertical-align: top;\n",
       "    }\n",
       "\n",
       "    .dataframe thead th {\n",
       "        text-align: right;\n",
       "    }\n",
       "</style>\n",
       "<table border=\"1\" class=\"dataframe\">\n",
       "  <thead>\n",
       "    <tr style=\"text-align: right;\">\n",
       "      <th></th>\n",
       "      <th>Price</th>\n",
       "      <th>y_test_pred</th>\n",
       "    </tr>\n",
       "  </thead>\n",
       "  <tbody>\n",
       "    <tr>\n",
       "      <th>731</th>\n",
       "      <td>2.32</td>\n",
       "      <td>2.000000</td>\n",
       "    </tr>\n",
       "    <tr>\n",
       "      <th>659</th>\n",
       "      <td>7.25</td>\n",
       "      <td>8.321765</td>\n",
       "    </tr>\n",
       "    <tr>\n",
       "      <th>58</th>\n",
       "      <td>2.90</td>\n",
       "      <td>1.717068</td>\n",
       "    </tr>\n",
       "    <tr>\n",
       "      <th>219</th>\n",
       "      <td>51.43</td>\n",
       "      <td>51.350000</td>\n",
       "    </tr>\n",
       "    <tr>\n",
       "      <th>77</th>\n",
       "      <td>2.65</td>\n",
       "      <td>2.775000</td>\n",
       "    </tr>\n",
       "    <tr>\n",
       "      <th>336</th>\n",
       "      <td>7.50</td>\n",
       "      <td>6.924045</td>\n",
       "    </tr>\n",
       "    <tr>\n",
       "      <th>1006</th>\n",
       "      <td>14.50</td>\n",
       "      <td>11.083333</td>\n",
       "    </tr>\n",
       "    <tr>\n",
       "      <th>735</th>\n",
       "      <td>6.26</td>\n",
       "      <td>5.601448</td>\n",
       "    </tr>\n",
       "    <tr>\n",
       "      <th>533</th>\n",
       "      <td>4.00</td>\n",
       "      <td>5.502632</td>\n",
       "    </tr>\n",
       "    <tr>\n",
       "      <th>655</th>\n",
       "      <td>6.80</td>\n",
       "      <td>5.925000</td>\n",
       "    </tr>\n",
       "  </tbody>\n",
       "</table>\n",
       "</div>"
      ],
      "text/plain": [
       "      Price  y_test_pred\n",
       "731    2.32     2.000000\n",
       "659    7.25     8.321765\n",
       "58     2.90     1.717068\n",
       "219   51.43    51.350000\n",
       "77     2.65     2.775000\n",
       "336    7.50     6.924045\n",
       "1006  14.50    11.083333\n",
       "735    6.26     5.601448\n",
       "533    4.00     5.502632\n",
       "655    6.80     5.925000"
      ]
     },
     "execution_count": 32,
     "metadata": {},
     "output_type": "execute_result"
    }
   ],
   "source": [
    "pd.concat([y_test.reset_index(drop=True),pd.DataFrame(y_test_pred,columns=['y_test_pred'])],axis=1).sample(10)"
   ]
  },
  {
   "cell_type": "markdown",
   "metadata": {},
   "source": [
    "### 2-Decision Tree regressor:"
   ]
  },
  {
   "cell_type": "code",
   "execution_count": 33,
   "metadata": {},
   "outputs": [],
   "source": [
    "from sklearn.model_selection import RandomizedSearchCV"
   ]
  },
  {
   "cell_type": "code",
   "execution_count": 34,
   "metadata": {},
   "outputs": [],
   "source": [
    "X = df.drop(['Price','Location_Mumbai','Location_Jaipur','Location_Pune','Location_Kolkata',\n",
    "             'Owner_Type_First','Kilometers_Driven','Location_Kochi','Owner_Type_Second','Location_Delhi','Location_Chennai'], axis=1)\n",
    "y = df['Price']"
   ]
  },
  {
   "cell_type": "code",
   "execution_count": 35,
   "metadata": {},
   "outputs": [
    {
     "name": "stdout",
     "output_type": "stream",
     "text": [
      "{'min_samples_leaf': 10, 'max_depth': 10}\n"
     ]
    }
   ],
   "source": [
    "dt = DecisionTreeRegressor(random_state=0)\n",
    "dt_params = {'max_depth':np.arange(1,15), 'min_samples_leaf':np.arange(2,15)}\n",
    "rscv_dt =RandomizedSearchCV(dt, dt_params, cv=3, scoring='neg_mean_squared_error')\n",
    "rscv_dt.fit(X, y)\n",
    "print(rscv_dt.best_params_)"
   ]
  },
  {
   "cell_type": "code",
   "execution_count": 36,
   "metadata": {},
   "outputs": [],
   "source": [
    "dt_best=rscv_dt.best_params_"
   ]
  },
  {
   "cell_type": "code",
   "execution_count": 37,
   "metadata": {},
   "outputs": [
    {
     "data": {
      "text/plain": [
       "DecisionTreeRegressor(ccp_alpha=0.0, criterion='mse', max_depth=10,\n",
       "                      max_features=None, max_leaf_nodes=None,\n",
       "                      min_impurity_decrease=0.0, min_impurity_split=None,\n",
       "                      min_samples_leaf=10, min_samples_split=2,\n",
       "                      min_weight_fraction_leaf=0.0, presort='deprecated',\n",
       "                      random_state=None, splitter='best')"
      ]
     },
     "execution_count": 37,
     "metadata": {},
     "output_type": "execute_result"
    }
   ],
   "source": [
    "dt=DecisionTreeRegressor(**dt_best)\n",
    "\n",
    "dt.fit(X,y)"
   ]
  },
  {
   "cell_type": "code",
   "execution_count": 38,
   "metadata": {},
   "outputs": [
    {
     "data": {
      "text/plain": [
       "0.8852549343576487"
      ]
     },
     "execution_count": 38,
     "metadata": {},
     "output_type": "execute_result"
    }
   ],
   "source": [
    "dt.score(X,y)"
   ]
  },
  {
   "cell_type": "code",
   "execution_count": 39,
   "metadata": {},
   "outputs": [
    {
     "name": "stdout",
     "output_type": "stream",
     "text": [
      "r2_score on training data:  0.9805427552212824\n",
      "r2_score on testing data:  0.9662540593271798\n",
      "RMSE on training data:  1.5629969579883953\n",
      "RMSE on testing data:  2.0387241798344116\n"
     ]
    }
   ],
   "source": [
    "from sklearn.model_selection import train_test_split\n",
    "\n",
    "X_train,X_test,y_train,y_test=train_test_split(X,y,test_size=.2,random_state=18)\n",
    "\n",
    "\n",
    "dt=DecisionTreeRegressor(**dt_best)\n",
    "\n",
    "dt.fit(X_train,y_train)\n",
    "y_tr_pred=knn.predict(X_train)\n",
    "y_test_pred=knn.predict(X_test)\n",
    "\n",
    "# training data & testing data accuracy:\n",
    "print('r2_score on training data: ',r2_score(y_train,y_tr_pred)) #train\n",
    "print('r2_score on testing data: ',r2_score(y_test,y_test_pred)) #test\n",
    "\n",
    "# RMSE for train & test:\n",
    "print('RMSE on training data: ',np.sqrt(mean_squared_error(y_train,y_tr_pred)))  #train\n",
    "print('RMSE on testing data: ',np.sqrt(mean_squared_error(y_test,y_test_pred))) #test"
   ]
  },
  {
   "cell_type": "code",
   "execution_count": 40,
   "metadata": {},
   "outputs": [
    {
     "data": {
      "text/html": [
       "<div>\n",
       "<style scoped>\n",
       "    .dataframe tbody tr th:only-of-type {\n",
       "        vertical-align: middle;\n",
       "    }\n",
       "\n",
       "    .dataframe tbody tr th {\n",
       "        vertical-align: top;\n",
       "    }\n",
       "\n",
       "    .dataframe thead th {\n",
       "        text-align: right;\n",
       "    }\n",
       "</style>\n",
       "<table border=\"1\" class=\"dataframe\">\n",
       "  <thead>\n",
       "    <tr style=\"text-align: right;\">\n",
       "      <th></th>\n",
       "      <th>Price</th>\n",
       "      <th>y_test_pred</th>\n",
       "    </tr>\n",
       "  </thead>\n",
       "  <tbody>\n",
       "    <tr>\n",
       "      <th>491</th>\n",
       "      <td>4.50</td>\n",
       "      <td>4.750000</td>\n",
       "    </tr>\n",
       "    <tr>\n",
       "      <th>101</th>\n",
       "      <td>6.75</td>\n",
       "      <td>5.625000</td>\n",
       "    </tr>\n",
       "    <tr>\n",
       "      <th>1127</th>\n",
       "      <td>2.75</td>\n",
       "      <td>3.208000</td>\n",
       "    </tr>\n",
       "    <tr>\n",
       "      <th>549</th>\n",
       "      <td>5.50</td>\n",
       "      <td>5.500000</td>\n",
       "    </tr>\n",
       "    <tr>\n",
       "      <th>56</th>\n",
       "      <td>6.00</td>\n",
       "      <td>6.215000</td>\n",
       "    </tr>\n",
       "    <tr>\n",
       "      <th>729</th>\n",
       "      <td>8.25</td>\n",
       "      <td>8.375000</td>\n",
       "    </tr>\n",
       "    <tr>\n",
       "      <th>991</th>\n",
       "      <td>28.63</td>\n",
       "      <td>34.627173</td>\n",
       "    </tr>\n",
       "    <tr>\n",
       "      <th>849</th>\n",
       "      <td>9.95</td>\n",
       "      <td>7.727609</td>\n",
       "    </tr>\n",
       "    <tr>\n",
       "      <th>1133</th>\n",
       "      <td>8.25</td>\n",
       "      <td>8.325000</td>\n",
       "    </tr>\n",
       "    <tr>\n",
       "      <th>754</th>\n",
       "      <td>5.86</td>\n",
       "      <td>5.860000</td>\n",
       "    </tr>\n",
       "  </tbody>\n",
       "</table>\n",
       "</div>"
      ],
      "text/plain": [
       "      Price  y_test_pred\n",
       "491    4.50     4.750000\n",
       "101    6.75     5.625000\n",
       "1127   2.75     3.208000\n",
       "549    5.50     5.500000\n",
       "56     6.00     6.215000\n",
       "729    8.25     8.375000\n",
       "991   28.63    34.627173\n",
       "849    9.95     7.727609\n",
       "1133   8.25     8.325000\n",
       "754    5.86     5.860000"
      ]
     },
     "execution_count": 40,
     "metadata": {},
     "output_type": "execute_result"
    }
   ],
   "source": [
    "pd.concat([y_test.reset_index(drop=True),pd.DataFrame(y_test_pred,columns=['y_test_pred'])],axis=1).sample(10)"
   ]
  },
  {
   "cell_type": "markdown",
   "metadata": {},
   "source": [
    "### 3 - Random Forest Regressor:"
   ]
  },
  {
   "cell_type": "code",
   "execution_count": 41,
   "metadata": {},
   "outputs": [],
   "source": [
    "X = df.drop(['Price','Location_Mumbai','Location_Jaipur','Location_Pune','Location_Kolkata',\n",
    "             'Owner_Type_First','Kilometers_Driven','Location_Kochi','Owner_Type_Second','Location_Delhi','Location_Chennai'], axis=1)\n",
    "y = df['Price']\n",
    "\n",
    "mse_bias= []\n",
    "mse_var=[]\n",
    "for n_e in np.arange(5,13):\n",
    "    RF=RandomForestRegressor(n_estimators=n_e,random_state=0)\n",
    "    kfold = KFold(shuffle=True, n_splits=3, random_state=0)\n",
    "    mse = cross_val_score(RF, X_scaled, y, cv=kfold, scoring='neg_mean_squared_error' )\n",
    "    mse_bias.append(np.mean(np.sqrt(np.abs(mse))))\n",
    "    mse_var.append(np.var(np.sqrt(np.abs(mse)), ddof=1))"
   ]
  },
  {
   "cell_type": "code",
   "execution_count": 42,
   "metadata": {},
   "outputs": [
    {
     "name": "stdout",
     "output_type": "stream",
     "text": [
      "2 4.01236367259429\n",
      "0 0.35588654249210594\n"
     ]
    }
   ],
   "source": [
    "print(np.argmin(mse_bias), np.min(mse_bias)) #best bias error at index \n",
    "print(np.argmin(mse_var), np.min(mse_var)) # best variance error at index 16"
   ]
  },
  {
   "cell_type": "code",
   "execution_count": 43,
   "metadata": {},
   "outputs": [
    {
     "name": "stdout",
     "output_type": "stream",
     "text": [
      "0.41538394508743137\n",
      "4.082757335948315\n",
      "bias tradeoff in percentage:  5.510204081632662\n",
      "variance tradeoff in percentage:  69.23076923076923\n"
     ]
    }
   ],
   "source": [
    "print(mse_var[np.argmin(mse_bias)]) #var error for corresponding 7 index:bias 4.63,var 0.13\n",
    "print(mse_bias[np.argmin(mse_var)]) #bias error for corresponding 5 index:bias 4.9,var 0.04,so we will go with n_estimator 1\n",
    "\n",
    "print('bias tradeoff in percentage: ',((4.9-4.63)/4.9)*100) # for 5% increase in bias we are getting almost 70% reduction in variance\n",
    "print('variance tradeoff in percentage: ',((.13-0.04)/.13)*100)"
   ]
  },
  {
   "cell_type": "code",
   "execution_count": 44,
   "metadata": {},
   "outputs": [
    {
     "data": {
      "text/plain": [
       "0.9739115446026624"
      ]
     },
     "execution_count": 44,
     "metadata": {},
     "output_type": "execute_result"
    }
   ],
   "source": [
    "RF=RandomForestRegressor(n_estimators=8,random_state=1)\n",
    "RF.fit(X,y)\n",
    "RF.score(X,y)"
   ]
  },
  {
   "cell_type": "code",
   "execution_count": 45,
   "metadata": {},
   "outputs": [
    {
     "name": "stdout",
     "output_type": "stream",
     "text": [
      "r2_score on training data:  0.9805427552212824\n",
      "r2_score on testing data:  0.9662540593271798\n",
      "RMSE on training data:  1.5629969579883953\n",
      "RMSE on testing data:  2.0387241798344116\n"
     ]
    }
   ],
   "source": [
    "RF=RandomForestRegressor(n_estimators=8,random_state=1)\n",
    "RF.fit(X_train,y_train)\n",
    "y_tr_pred=knn.predict(X_train)\n",
    "y_test_pred=knn.predict(X_test)\n",
    "\n",
    "# training data & testing data accuracy:\n",
    "print('r2_score on training data: ',r2_score(y_train,y_tr_pred)) #train\n",
    "print('r2_score on testing data: ',r2_score(y_test,y_test_pred)) #test\n",
    "\n",
    "# RMSE for train & test:\n",
    "print('RMSE on training data: ',np.sqrt(mean_squared_error(y_train,y_tr_pred)))  #train\n",
    "print('RMSE on testing data: ',np.sqrt(mean_squared_error(y_test,y_test_pred))) #test"
   ]
  },
  {
   "cell_type": "code",
   "execution_count": 46,
   "metadata": {},
   "outputs": [
    {
     "data": {
      "text/html": [
       "<div>\n",
       "<style scoped>\n",
       "    .dataframe tbody tr th:only-of-type {\n",
       "        vertical-align: middle;\n",
       "    }\n",
       "\n",
       "    .dataframe tbody tr th {\n",
       "        vertical-align: top;\n",
       "    }\n",
       "\n",
       "    .dataframe thead th {\n",
       "        text-align: right;\n",
       "    }\n",
       "</style>\n",
       "<table border=\"1\" class=\"dataframe\">\n",
       "  <thead>\n",
       "    <tr style=\"text-align: right;\">\n",
       "      <th></th>\n",
       "      <th>Price</th>\n",
       "      <th>y_test_pred</th>\n",
       "    </tr>\n",
       "  </thead>\n",
       "  <tbody>\n",
       "    <tr>\n",
       "      <th>924</th>\n",
       "      <td>9.65</td>\n",
       "      <td>11.570000</td>\n",
       "    </tr>\n",
       "    <tr>\n",
       "      <th>845</th>\n",
       "      <td>2.65</td>\n",
       "      <td>2.933333</td>\n",
       "    </tr>\n",
       "    <tr>\n",
       "      <th>930</th>\n",
       "      <td>3.75</td>\n",
       "      <td>3.700000</td>\n",
       "    </tr>\n",
       "    <tr>\n",
       "      <th>710</th>\n",
       "      <td>6.11</td>\n",
       "      <td>9.903684</td>\n",
       "    </tr>\n",
       "    <tr>\n",
       "      <th>41</th>\n",
       "      <td>9.75</td>\n",
       "      <td>6.995910</td>\n",
       "    </tr>\n",
       "    <tr>\n",
       "      <th>611</th>\n",
       "      <td>5.35</td>\n",
       "      <td>5.606000</td>\n",
       "    </tr>\n",
       "    <tr>\n",
       "      <th>288</th>\n",
       "      <td>4.30</td>\n",
       "      <td>4.300000</td>\n",
       "    </tr>\n",
       "    <tr>\n",
       "      <th>1182</th>\n",
       "      <td>5.90</td>\n",
       "      <td>6.228000</td>\n",
       "    </tr>\n",
       "    <tr>\n",
       "      <th>126</th>\n",
       "      <td>2.25</td>\n",
       "      <td>2.650000</td>\n",
       "    </tr>\n",
       "    <tr>\n",
       "      <th>500</th>\n",
       "      <td>6.20</td>\n",
       "      <td>5.950000</td>\n",
       "    </tr>\n",
       "  </tbody>\n",
       "</table>\n",
       "</div>"
      ],
      "text/plain": [
       "      Price  y_test_pred\n",
       "924    9.65    11.570000\n",
       "845    2.65     2.933333\n",
       "930    3.75     3.700000\n",
       "710    6.11     9.903684\n",
       "41     9.75     6.995910\n",
       "611    5.35     5.606000\n",
       "288    4.30     4.300000\n",
       "1182   5.90     6.228000\n",
       "126    2.25     2.650000\n",
       "500    6.20     5.950000"
      ]
     },
     "execution_count": 46,
     "metadata": {},
     "output_type": "execute_result"
    }
   ],
   "source": [
    "pd.concat([y_test.reset_index(drop=True),pd.DataFrame(y_test_pred,columns=['y_test_pred'])],axis=1).sample(10)"
   ]
  },
  {
   "cell_type": "markdown",
   "metadata": {},
   "source": [
    "### 4 - Ada boosting DT:"
   ]
  },
  {
   "cell_type": "code",
   "execution_count": 47,
   "metadata": {},
   "outputs": [
    {
     "name": "stdout",
     "output_type": "stream",
     "text": [
      "5.650413221039403\n",
      "6\n",
      "0.2081483746340459\n",
      "7\n"
     ]
    }
   ],
   "source": [
    "dt=DecisionTreeRegressor(**dt_best)\n",
    "AB_DT = AdaBoostRegressor(base_estimator=dt, random_state=0)\n",
    "mse_bias= []\n",
    "mse_var=[]\n",
    "for n_e in np.arange(5,13):\n",
    "    AB_DT=AdaBoostRegressor(n_estimators=n_e,random_state=0)\n",
    "    kfold = KFold(shuffle=True, n_splits=3, random_state=0)\n",
    "    mse = cross_val_score(AB_DT, X, y, cv=kfold, scoring='neg_mean_squared_error' )\n",
    "    mse_bias.append(np.mean(np.sqrt(np.abs(mse))))\n",
    "    mse_var.append(np.var(np.sqrt(np.abs(mse)), ddof=1))\n",
    "print(np.min(mse_bias))\n",
    "print(np.argmin(mse_bias))\n",
    "print(np.min(mse_var))\n",
    "print(np.argmin(mse_var))"
   ]
  },
  {
   "cell_type": "code",
   "execution_count": 48,
   "metadata": {},
   "outputs": [
    {
     "name": "stdout",
     "output_type": "stream",
     "text": [
      "0.2081483746340459\n",
      "5.754453278325241\n",
      "bias tradeoff in percentage:  5.270457697642162\n",
      "variance tradeoff in percentage:  30.89731729879741\n"
     ]
    }
   ],
   "source": [
    "print(mse_var[7])  #variance at index 6,meaning n_estimator=3\n",
    "print(mse_bias[1]) #bias at index 1,minimum variance\n",
    "print('bias tradeoff in percentage: ',((7.21-6.83)/7.21)*100) # for 5% increase in bias we are getting almost 70% reduction in variance\n",
    "print('variance tradeoff in percentage: ',((0.01081-0.00747)/0.01081)*100)"
   ]
  },
  {
   "cell_type": "markdown",
   "metadata": {},
   "source": [
    "### 5- Ada boosted RF:"
   ]
  },
  {
   "cell_type": "code",
   "execution_count": 49,
   "metadata": {},
   "outputs": [
    {
     "name": "stdout",
     "output_type": "stream",
     "text": [
      "5.650413221039403\n",
      "6\n",
      "0.2081483746340459\n",
      "7\n"
     ]
    }
   ],
   "source": [
    "RF=RandomForestRegressor(n_estimators=8,random_state=1)\n",
    "AB_RF = AdaBoostRegressor(base_estimator=RF,random_state=0)\n",
    "mse_bias= []\n",
    "mse_var=[]\n",
    "for n_e in np.arange(5,13):\n",
    "    AB_RF=AdaBoostRegressor(n_estimators=n_e,random_state=0)\n",
    "    kfold = KFold(shuffle=True, n_splits=3, random_state=0)\n",
    "    mse = cross_val_score(AB_RF, X, y, cv=kfold, scoring='neg_mean_squared_error' )\n",
    "    mse_bias.append(np.mean(np.sqrt(np.abs(mse))))\n",
    "    mse_var.append(np.var(np.sqrt(np.abs(mse)), ddof=1))\n",
    "print(np.min(mse_bias))\n",
    "print(np.argmin(mse_bias))\n",
    "print(np.min(mse_var))\n",
    "print(np.argmin(mse_var))"
   ]
  },
  {
   "cell_type": "code",
   "execution_count": 50,
   "metadata": {},
   "outputs": [
    {
     "name": "stdout",
     "output_type": "stream",
     "text": [
      "0.2081483746340459\n",
      "5.754453278325241\n"
     ]
    }
   ],
   "source": [
    "print(mse_var[7])  #variance at index 2,meaning n_estimator=3\n",
    "print(mse_bias[1]) #bias at index 1,minimum variance.Both are almost same.\n",
    "# Almost same bias and variance,so we wont use adaboosted dt regressor!"
   ]
  },
  {
   "cell_type": "code",
   "execution_count": 51,
   "metadata": {},
   "outputs": [],
   "source": [
    "# Almost same bias and variance,so we wont use adaboosted dt/RF regressor!"
   ]
  },
  {
   "cell_type": "markdown",
   "metadata": {},
   "source": [
    "### 6 - Gradient Boosting: [ Uses DT by default ]"
   ]
  },
  {
   "cell_type": "code",
   "execution_count": 52,
   "metadata": {},
   "outputs": [],
   "source": [
    "X = df.drop(['Price','Location_Mumbai','Location_Jaipur','Location_Pune','Location_Kolkata',\n",
    "             'Owner_Type_First','Kilometers_Driven','Location_Kochi','Owner_Type_Second','Location_Delhi','Location_Chennai'], axis=1)\n",
    "y = df['Price']"
   ]
  },
  {
   "cell_type": "code",
   "execution_count": 53,
   "metadata": {},
   "outputs": [],
   "source": [
    "# mse_var=[]\n",
    "# mse_bias = []\n",
    "# GBoost=GradientBoostingRegressor()\n",
    "# for ne in np.arange(1,50):\n",
    "#     kfold = KFold(shuffle=True,n_splits=3,random_state=0)\n",
    "#     mse = cross_val_score(GBoost, X, y, cv=kfold, scoring='neg_mean_squared_error')\n",
    "#     mse_var=[].append(np.var(np.sqrt(np.abs(mse)), ddof=1))\n",
    "#     mse_bias.append(np.mean(np.sqrt(np.abs(mse))))\n",
    "    \n",
    "# print(np.min(mse_bias))\n",
    "# print(np.argmin(mse_bias))\n",
    "# print(np.min(mse_var))\n",
    "# print(np.argmin(mse_var))"
   ]
  },
  {
   "cell_type": "markdown",
   "metadata": {},
   "source": [
    "# combined result of all:"
   ]
  },
  {
   "cell_type": "code",
   "execution_count": 54,
   "metadata": {},
   "outputs": [],
   "source": [
    "KNN = KNeighborsRegressor(**knn_best)\n",
    "DT =DecisionTreeRegressor(**dt_best)\n",
    "RF = RandomForestRegressor(n_estimators=1,random_state=0,criterion='mae')\n",
    "AB_RF = AdaBoostRegressor(base_estimator=RF,n_estimators=2,random_state=0)\n",
    "AB_DT = AdaBoostRegressor(base_estimator=DT,n_estimators=2,random_state=0)\n",
    "# GBoost = GradientBoostingRegressor(n_estimators=21)"
   ]
  },
  {
   "cell_type": "code",
   "execution_count": 55,
   "metadata": {},
   "outputs": [],
   "source": [
    "models = []\n",
    "models.append(('KNNRegressor',KNN))\n",
    "models.append(('DT_Regressor',DT))\n",
    "models.append(('RF_Regressor',RF))\n",
    "models.append(('AdaBoostRF',AB_RF))\n",
    "models.append(('AdaBoostDT',AB_DT))\n",
    "# models.append(('GradientBoostRegressor',GBoost))"
   ]
  },
  {
   "cell_type": "code",
   "execution_count": 56,
   "metadata": {},
   "outputs": [
    {
     "name": "stdout",
     "output_type": "stream",
     "text": [
      "KNNRegressor: 4.903515 (0.246984)\n",
      "DT_Regressor: 4.525640 (0.387462)\n",
      "RF_Regressor: 5.394974 (0.019371)\n",
      "AdaBoostRF: 5.785658 (0.077559)\n",
      "AdaBoostDT: 4.945712 (0.521529)\n"
     ]
    },
    {
     "data": {
      "image/png": "[encoded data removed]",
      "text/plain": [
       "<Figure size 720x360 with 1 Axes>"
      ]
     },
     "metadata": {
      "needs_background": "light"
     },
     "output_type": "display_data"
    }
   ],
   "source": [
    "# evaluate each model in turn\n",
    "results = []\n",
    "names = []\n",
    "for name, model in models:\n",
    "\tkfold = KFold(shuffle=True,n_splits=3,random_state=0)\n",
    "\tcv_results = cross_val_score(model, X_scaled, y,cv=kfold, scoring='neg_mean_squared_error')\n",
    "\tresults.append(np.sqrt(np.abs(cv_results)))\n",
    "\tnames.append(name)\n",
    "\tprint(\"%s: %f (%f)\" % (name, np.mean(np.sqrt(np.abs(cv_results))),np.var(np.sqrt(np.abs(cv_results)),ddof=1)))\n",
    "   # boxplot algorithm comparison\n",
    "fig = plt.figure(figsize=(10,5))\n",
    "fig.suptitle('Algorithm Comparison')\n",
    "ax = fig.add_subplot(111)\n",
    "plt.boxplot(results)\n",
    "ax.set_xticklabels(names)\n",
    "plt.show()"
   ]
  },
  {
   "cell_type": "code",
   "execution_count": 57,
   "metadata": {},
   "outputs": [],
   "source": [
    "# As ,we can observe from above comparison DT is giving us best results in terms of bias and variance.\n",
    "# So,we can use DT as our best model.\n",
    "# we can probably create a stacked model,using Voting Regressor."
   ]
  },
  {
   "cell_type": "markdown",
   "metadata": {},
   "source": [
    "# Final testing on test dataset:"
   ]
  },
  {
   "cell_type": "code",
   "execution_count": 58,
   "metadata": {},
   "outputs": [],
   "source": [
    "X_trainf = df.drop(['Price','Location_Mumbai','Location_Jaipur','Location_Pune','Location_Kolkata',\n",
    "             'Owner_Type_First','Kilometers_Driven','Location_Kochi','Owner_Type_Second','Location_Delhi','Location_Chennai'], axis=1)\n",
    "y_trainf = df['Price']"
   ]
  },
  {
   "cell_type": "code",
   "execution_count": 59,
   "metadata": {},
   "outputs": [
    {
     "data": {
      "text/plain": [
       "(6019, 14)"
      ]
     },
     "execution_count": 59,
     "metadata": {},
     "output_type": "execute_result"
    }
   ],
   "source": [
    "X.shape"
   ]
  },
  {
   "cell_type": "code",
   "execution_count": 60,
   "metadata": {},
   "outputs": [],
   "source": [
    "dfte=dfte.drop(['Location_Mumbai','Location_Jaipur','Location_Pune','Location_Kolkata','Owner_Type_First','Kilometers_Driven','Location_Kochi','Owner_Type_Second','Location_Delhi','Location_Chennai'], axis=1)"
   ]
  },
  {
   "cell_type": "code",
   "execution_count": 61,
   "metadata": {},
   "outputs": [
    {
     "data": {
      "text/plain": [
       "(1234, 14)"
      ]
     },
     "execution_count": 61,
     "metadata": {},
     "output_type": "execute_result"
    }
   ],
   "source": [
    "dfte.shape"
   ]
  },
  {
   "cell_type": "code",
   "execution_count": 62,
   "metadata": {},
   "outputs": [
    {
     "data": {
      "text/plain": [
       "DecisionTreeRegressor(ccp_alpha=0.0, criterion='mse', max_depth=10,\n",
       "                      max_features=None, max_leaf_nodes=None,\n",
       "                      min_impurity_decrease=0.0, min_impurity_split=None,\n",
       "                      min_samples_leaf=10, min_samples_split=2,\n",
       "                      min_weight_fraction_leaf=0.0, presort='deprecated',\n",
       "                      random_state=None, splitter='best')"
      ]
     },
     "execution_count": 62,
     "metadata": {},
     "output_type": "execute_result"
    }
   ],
   "source": [
    "dt=DecisionTreeRegressor(**dt_best)\n",
    "dt.fit(X_trainf,y_trainf)"
   ]
  },
  {
   "cell_type": "code",
   "execution_count": 63,
   "metadata": {},
   "outputs": [],
   "source": [
    "test_pred=dt.predict(dfte)\n",
    "test_pred=pd.DataFrame(test_pred,columns=['test_data_f_pred'])"
   ]
  },
  {
   "cell_type": "code",
   "execution_count": 64,
   "metadata": {
    "scrolled": true
   },
   "outputs": [
    {
     "data": {
      "text/html": [
       "<div>\n",
       "<style scoped>\n",
       "    .dataframe tbody tr th:only-of-type {\n",
       "        vertical-align: middle;\n",
       "    }\n",
       "\n",
       "    .dataframe tbody tr th {\n",
       "        vertical-align: top;\n",
       "    }\n",
       "\n",
       "    .dataframe thead th {\n",
       "        text-align: right;\n",
       "    }\n",
       "</style>\n",
       "<table border=\"1\" class=\"dataframe\">\n",
       "  <thead>\n",
       "    <tr style=\"text-align: right;\">\n",
       "      <th></th>\n",
       "      <th>test_data_f_pred</th>\n",
       "    </tr>\n",
       "  </thead>\n",
       "  <tbody>\n",
       "    <tr>\n",
       "      <th>454</th>\n",
       "      <td>20.235000</td>\n",
       "    </tr>\n",
       "    <tr>\n",
       "      <th>816</th>\n",
       "      <td>3.760417</td>\n",
       "    </tr>\n",
       "    <tr>\n",
       "      <th>328</th>\n",
       "      <td>5.470556</td>\n",
       "    </tr>\n",
       "    <tr>\n",
       "      <th>161</th>\n",
       "      <td>8.473200</td>\n",
       "    </tr>\n",
       "    <tr>\n",
       "      <th>268</th>\n",
       "      <td>12.663333</td>\n",
       "    </tr>\n",
       "    <tr>\n",
       "      <th>309</th>\n",
       "      <td>13.600909</td>\n",
       "    </tr>\n",
       "    <tr>\n",
       "      <th>1092</th>\n",
       "      <td>4.323000</td>\n",
       "    </tr>\n",
       "    <tr>\n",
       "      <th>664</th>\n",
       "      <td>11.259000</td>\n",
       "    </tr>\n",
       "    <tr>\n",
       "      <th>166</th>\n",
       "      <td>2.437109</td>\n",
       "    </tr>\n",
       "    <tr>\n",
       "      <th>173</th>\n",
       "      <td>2.413830</td>\n",
       "    </tr>\n",
       "  </tbody>\n",
       "</table>\n",
       "</div>"
      ],
      "text/plain": [
       "      test_data_f_pred\n",
       "454          20.235000\n",
       "816           3.760417\n",
       "328           5.470556\n",
       "161           8.473200\n",
       "268          12.663333\n",
       "309          13.600909\n",
       "1092          4.323000\n",
       "664          11.259000\n",
       "166           2.437109\n",
       "173           2.413830"
      ]
     },
     "execution_count": 64,
     "metadata": {},
     "output_type": "execute_result"
    }
   ],
   "source": [
    "test_pred.sample(10)"
   ]
  },
  {
   "cell_type": "code",
   "execution_count": 65,
   "metadata": {},
   "outputs": [],
   "source": [
    "test_pred=test_pred.round(2)"
   ]
  },
  {
   "cell_type": "markdown",
   "metadata": {},
   "source": [
    "# Sample data testing:"
   ]
  },
  {
   "cell_type": "code",
   "execution_count": 66,
   "metadata": {},
   "outputs": [],
   "source": [
    "test_pred.to_excel('D:\\datasets+minipro\\machine hack\\Participants_Data_Used_Cars\\cjfinal.xlsx')"
   ]
  },
  {
   "cell_type": "code",
   "execution_count": null,
   "metadata": {},
   "outputs": [],
   "source": []
  }
 ],
 "metadata": {
  "kernelspec": {
   "display_name": "Python 3",
   "language": "python",
   "name": "python3"
  },
  "language_info": {
   "codemirror_mode": {
    "name": "ipython",
    "version": 3
   },
   "file_extension": ".py",
   "mimetype": "text/x-python",
   "name": "python",
   "nbconvert_exporter": "python",
   "pygments_lexer": "ipython3",
   "version": "3.6.4"
  }
 },
 "nbformat": 4,
 "nbformat_minor": 1
}
